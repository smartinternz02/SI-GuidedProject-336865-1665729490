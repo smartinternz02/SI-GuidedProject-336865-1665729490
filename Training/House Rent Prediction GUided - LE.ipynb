{
 "cells": [
  {
   "cell_type": "markdown",
   "id": "306b79b3",
   "metadata": {},
   "source": [
    "## Predict :- Monthly Rent"
   ]
  },
  {
   "cell_type": "code",
   "execution_count": 1,
   "id": "013932e1",
   "metadata": {},
   "outputs": [],
   "source": [
    "#Importing required libraries\n",
    "import numpy as np\n",
    "import pandas as pd\n",
    "import matplotlib.pyplot as plt\n",
    "%matplotlib inline\n",
    "\n",
    "import seaborn as sns"
   ]
  },
  {
   "cell_type": "code",
   "execution_count": 2,
   "id": "26fb8876",
   "metadata": {
    "scrolled": false
   },
   "outputs": [
    {
     "data": {
      "text/html": [
       "<div>\n",
       "<style scoped>\n",
       "    .dataframe tbody tr th:only-of-type {\n",
       "        vertical-align: middle;\n",
       "    }\n",
       "\n",
       "    .dataframe tbody tr th {\n",
       "        vertical-align: top;\n",
       "    }\n",
       "\n",
       "    .dataframe thead th {\n",
       "        text-align: right;\n",
       "    }\n",
       "</style>\n",
       "<table border=\"1\" class=\"dataframe\">\n",
       "  <thead>\n",
       "    <tr style=\"text-align: right;\">\n",
       "      <th></th>\n",
       "      <th>city</th>\n",
       "      <th>monthly_rant</th>\n",
       "      <th>BHKS</th>\n",
       "      <th>Baths</th>\n",
       "      <th>sqft_per_inch</th>\n",
       "      <th>build_up_area</th>\n",
       "      <th>Type_of_property</th>\n",
       "      <th>location_of_the_property</th>\n",
       "      <th>deposit</th>\n",
       "    </tr>\n",
       "  </thead>\n",
       "  <tbody>\n",
       "    <tr>\n",
       "      <th>0</th>\n",
       "      <td>mumbai</td>\n",
       "      <td>17500.0</td>\n",
       "      <td>1.0</td>\n",
       "      <td>2 Baths</td>\n",
       "      <td>470</td>\n",
       "      <td>Carpet Area</td>\n",
       "      <td>Residential</td>\n",
       "      <td>Kolshet Road</td>\n",
       "      <td>75000.0</td>\n",
       "    </tr>\n",
       "    <tr>\n",
       "      <th>1</th>\n",
       "      <td>mumbai</td>\n",
       "      <td>75000.0</td>\n",
       "      <td>3.0</td>\n",
       "      <td>3 Baths</td>\n",
       "      <td>1800</td>\n",
       "      <td>Super built-up Area</td>\n",
       "      <td>Residential</td>\n",
       "      <td>Sector 21 Nerul</td>\n",
       "      <td>400000.0</td>\n",
       "    </tr>\n",
       "    <tr>\n",
       "      <th>2</th>\n",
       "      <td>mumbai</td>\n",
       "      <td>60000.0</td>\n",
       "      <td>2.0</td>\n",
       "      <td>2 Baths</td>\n",
       "      <td>950</td>\n",
       "      <td>Super built-up Area</td>\n",
       "      <td>Residential</td>\n",
       "      <td>Wadala</td>\n",
       "      <td>200000.0</td>\n",
       "    </tr>\n",
       "    <tr>\n",
       "      <th>3</th>\n",
       "      <td>mumbai</td>\n",
       "      <td>52000.0</td>\n",
       "      <td>3.0</td>\n",
       "      <td>3 Baths</td>\n",
       "      <td>1300</td>\n",
       "      <td>Carpet Area</td>\n",
       "      <td>Residential</td>\n",
       "      <td>Hiranandani Estate</td>\n",
       "      <td>300000.0</td>\n",
       "    </tr>\n",
       "    <tr>\n",
       "      <th>4</th>\n",
       "      <td>mumbai</td>\n",
       "      <td>30000.0</td>\n",
       "      <td>1.0</td>\n",
       "      <td>1 Bath</td>\n",
       "      <td>550</td>\n",
       "      <td>Built-up Area</td>\n",
       "      <td>Residential</td>\n",
       "      <td>Kanjurmarg (East)</td>\n",
       "      <td>150000.0</td>\n",
       "    </tr>\n",
       "    <tr>\n",
       "      <th>...</th>\n",
       "      <td>...</td>\n",
       "      <td>...</td>\n",
       "      <td>...</td>\n",
       "      <td>...</td>\n",
       "      <td>...</td>\n",
       "      <td>...</td>\n",
       "      <td>...</td>\n",
       "      <td>...</td>\n",
       "      <td>...</td>\n",
       "    </tr>\n",
       "    <tr>\n",
       "      <th>146523</th>\n",
       "      <td>Trivandraum</td>\n",
       "      <td>10000.0</td>\n",
       "      <td>2.0</td>\n",
       "      <td>3 Baths</td>\n",
       "      <td>1200</td>\n",
       "      <td>Built-up Area</td>\n",
       "      <td>Independent</td>\n",
       "      <td>Anayara</td>\n",
       "      <td>25000.0</td>\n",
       "    </tr>\n",
       "    <tr>\n",
       "      <th>146524</th>\n",
       "      <td>Trivandraum</td>\n",
       "      <td>21000.0</td>\n",
       "      <td>2.0</td>\n",
       "      <td>2 Baths</td>\n",
       "      <td>1155</td>\n",
       "      <td>Carpet Area</td>\n",
       "      <td>Residential</td>\n",
       "      <td>Kazhakkoottam</td>\n",
       "      <td>50000.0</td>\n",
       "    </tr>\n",
       "    <tr>\n",
       "      <th>146525</th>\n",
       "      <td>Trivandraum</td>\n",
       "      <td>10000.0</td>\n",
       "      <td>2.0</td>\n",
       "      <td>2 Baths</td>\n",
       "      <td>861</td>\n",
       "      <td>Built-up Area</td>\n",
       "      <td>Residential</td>\n",
       "      <td>Vattiyoorkkav</td>\n",
       "      <td>30000.0</td>\n",
       "    </tr>\n",
       "    <tr>\n",
       "      <th>146526</th>\n",
       "      <td>Trivandraum</td>\n",
       "      <td>33000.0</td>\n",
       "      <td>4.0</td>\n",
       "      <td>5 Baths</td>\n",
       "      <td>3200</td>\n",
       "      <td>Plot Area</td>\n",
       "      <td>Independent</td>\n",
       "      <td>Pattom</td>\n",
       "      <td>150000.0</td>\n",
       "    </tr>\n",
       "    <tr>\n",
       "      <th>146527</th>\n",
       "      <td>Trivandraum</td>\n",
       "      <td>8000.0</td>\n",
       "      <td>4.0</td>\n",
       "      <td>5 Baths</td>\n",
       "      <td>2178</td>\n",
       "      <td>Plot Area</td>\n",
       "      <td>Independent</td>\n",
       "      <td>Kallampally</td>\n",
       "      <td>24000.0</td>\n",
       "    </tr>\n",
       "  </tbody>\n",
       "</table>\n",
       "<p>146528 rows × 9 columns</p>\n",
       "</div>"
      ],
      "text/plain": [
       "               city  monthly_rant  BHKS    Baths  sqft_per_inch  \\\n",
       "0            mumbai       17500.0   1.0  2 Baths            470   \n",
       "1            mumbai       75000.0   3.0  3 Baths           1800   \n",
       "2            mumbai       60000.0   2.0  2 Baths            950   \n",
       "3            mumbai       52000.0   3.0  3 Baths           1300   \n",
       "4            mumbai       30000.0   1.0   1 Bath            550   \n",
       "...             ...           ...   ...      ...            ...   \n",
       "146523  Trivandraum       10000.0   2.0  3 Baths           1200   \n",
       "146524  Trivandraum       21000.0   2.0  2 Baths           1155   \n",
       "146525  Trivandraum       10000.0   2.0  2 Baths            861   \n",
       "146526  Trivandraum       33000.0   4.0  5 Baths           3200   \n",
       "146527  Trivandraum        8000.0   4.0  5 Baths           2178   \n",
       "\n",
       "              build_up_area Type_of_property location_of_the_property  \\\n",
       "0               Carpet Area      Residential             Kolshet Road   \n",
       "1       Super built-up Area      Residential          Sector 21 Nerul   \n",
       "2       Super built-up Area      Residential                   Wadala   \n",
       "3               Carpet Area      Residential       Hiranandani Estate   \n",
       "4             Built-up Area      Residential        Kanjurmarg (East)   \n",
       "...                     ...              ...                      ...   \n",
       "146523        Built-up Area      Independent                  Anayara   \n",
       "146524          Carpet Area      Residential            Kazhakkoottam   \n",
       "146525        Built-up Area      Residential            Vattiyoorkkav   \n",
       "146526            Plot Area      Independent                   Pattom   \n",
       "146527            Plot Area      Independent              Kallampally   \n",
       "\n",
       "         deposit  \n",
       "0        75000.0  \n",
       "1       400000.0  \n",
       "2       200000.0  \n",
       "3       300000.0  \n",
       "4       150000.0  \n",
       "...          ...  \n",
       "146523   25000.0  \n",
       "146524   50000.0  \n",
       "146525   30000.0  \n",
       "146526  150000.0  \n",
       "146527   24000.0  \n",
       "\n",
       "[146528 rows x 9 columns]"
      ]
     },
     "execution_count": 2,
     "metadata": {},
     "output_type": "execute_result"
    }
   ],
   "source": [
    "# Loading DataSet\n",
    "df = pd.read_csv('99acres_data.csv')\n",
    "df"
   ]
  },
  {
   "cell_type": "code",
   "execution_count": 3,
   "id": "1d1543ce",
   "metadata": {},
   "outputs": [
    {
     "data": {
      "text/html": [
       "<div>\n",
       "<style scoped>\n",
       "    .dataframe tbody tr th:only-of-type {\n",
       "        vertical-align: middle;\n",
       "    }\n",
       "\n",
       "    .dataframe tbody tr th {\n",
       "        vertical-align: top;\n",
       "    }\n",
       "\n",
       "    .dataframe thead th {\n",
       "        text-align: right;\n",
       "    }\n",
       "</style>\n",
       "<table border=\"1\" class=\"dataframe\">\n",
       "  <thead>\n",
       "    <tr style=\"text-align: right;\">\n",
       "      <th></th>\n",
       "      <th>monthly_rant</th>\n",
       "      <th>BHKS</th>\n",
       "      <th>sqft_per_inch</th>\n",
       "      <th>deposit</th>\n",
       "    </tr>\n",
       "  </thead>\n",
       "  <tbody>\n",
       "    <tr>\n",
       "      <th>count</th>\n",
       "      <td>1.465280e+05</td>\n",
       "      <td>146528.000000</td>\n",
       "      <td>1.465280e+05</td>\n",
       "      <td>1.465280e+05</td>\n",
       "    </tr>\n",
       "    <tr>\n",
       "      <th>mean</th>\n",
       "      <td>3.414242e+04</td>\n",
       "      <td>2.159703</td>\n",
       "      <td>2.463806e+03</td>\n",
       "      <td>1.203667e+05</td>\n",
       "    </tr>\n",
       "    <tr>\n",
       "      <th>std</th>\n",
       "      <td>8.428243e+04</td>\n",
       "      <td>1.107673</td>\n",
       "      <td>1.816119e+05</td>\n",
       "      <td>2.937736e+05</td>\n",
       "    </tr>\n",
       "    <tr>\n",
       "      <th>min</th>\n",
       "      <td>5.000000e+02</td>\n",
       "      <td>1.000000</td>\n",
       "      <td>1.000000e+00</td>\n",
       "      <td>0.000000e+00</td>\n",
       "    </tr>\n",
       "    <tr>\n",
       "      <th>25%</th>\n",
       "      <td>1.300000e+04</td>\n",
       "      <td>1.000000</td>\n",
       "      <td>6.800000e+02</td>\n",
       "      <td>3.000000e+04</td>\n",
       "    </tr>\n",
       "    <tr>\n",
       "      <th>50%</th>\n",
       "      <td>2.000000e+04</td>\n",
       "      <td>2.000000</td>\n",
       "      <td>1.057000e+03</td>\n",
       "      <td>6.000000e+04</td>\n",
       "    </tr>\n",
       "    <tr>\n",
       "      <th>75%</th>\n",
       "      <td>3.290000e+04</td>\n",
       "      <td>3.000000</td>\n",
       "      <td>1.500000e+03</td>\n",
       "      <td>1.250000e+05</td>\n",
       "    </tr>\n",
       "    <tr>\n",
       "      <th>max</th>\n",
       "      <td>9.917000e+06</td>\n",
       "      <td>95.000000</td>\n",
       "      <td>4.356000e+07</td>\n",
       "      <td>2.100000e+07</td>\n",
       "    </tr>\n",
       "  </tbody>\n",
       "</table>\n",
       "</div>"
      ],
      "text/plain": [
       "       monthly_rant           BHKS  sqft_per_inch       deposit\n",
       "count  1.465280e+05  146528.000000   1.465280e+05  1.465280e+05\n",
       "mean   3.414242e+04       2.159703   2.463806e+03  1.203667e+05\n",
       "std    8.428243e+04       1.107673   1.816119e+05  2.937736e+05\n",
       "min    5.000000e+02       1.000000   1.000000e+00  0.000000e+00\n",
       "25%    1.300000e+04       1.000000   6.800000e+02  3.000000e+04\n",
       "50%    2.000000e+04       2.000000   1.057000e+03  6.000000e+04\n",
       "75%    3.290000e+04       3.000000   1.500000e+03  1.250000e+05\n",
       "max    9.917000e+06      95.000000   4.356000e+07  2.100000e+07"
      ]
     },
     "execution_count": 3,
     "metadata": {},
     "output_type": "execute_result"
    }
   ],
   "source": [
    "df.describe()"
   ]
  },
  {
   "cell_type": "code",
   "execution_count": 4,
   "id": "dbdf01e9",
   "metadata": {
    "scrolled": false
   },
   "outputs": [
    {
     "name": "stdout",
     "output_type": "stream",
     "text": [
      "<class 'pandas.core.frame.DataFrame'>\n",
      "RangeIndex: 146528 entries, 0 to 146527\n",
      "Data columns (total 9 columns):\n",
      " #   Column                    Non-Null Count   Dtype  \n",
      "---  ------                    --------------   -----  \n",
      " 0   city                      146528 non-null  object \n",
      " 1   monthly_rant              146528 non-null  float64\n",
      " 2   BHKS                      146528 non-null  float64\n",
      " 3   Baths                     146528 non-null  object \n",
      " 4   sqft_per_inch             146528 non-null  int64  \n",
      " 5   build_up_area             146528 non-null  object \n",
      " 6   Type_of_property          146528 non-null  object \n",
      " 7   location_of_the_property  146528 non-null  object \n",
      " 8   deposit                   146528 non-null  float64\n",
      "dtypes: float64(3), int64(1), object(5)\n",
      "memory usage: 10.1+ MB\n"
     ]
    }
   ],
   "source": [
    "df.info()"
   ]
  },
  {
   "cell_type": "code",
   "execution_count": 5,
   "id": "ac550d72",
   "metadata": {},
   "outputs": [],
   "source": [
    "df['Baths'] = df['Baths'].str.split(\" \", n = 2, expand = True)[0]"
   ]
  },
  {
   "cell_type": "code",
   "execution_count": 6,
   "id": "b92af887",
   "metadata": {},
   "outputs": [
    {
     "data": {
      "text/plain": [
       "array(['2', '3', '1', '5', '4', '10', '6', 'RK\\n1', 'Baths', 'Bath', '9',\n",
       "       '15', '76', '8', '7', '12', 'BHK', '22', '16', '20', '17', '13',\n",
       "       '11', '18', '30', '24', '14', '23', '59', '48', 'RK', '40', '98',\n",
       "       '19', '26', '35', '28', '21', '37', '27', '50'], dtype=object)"
      ]
     },
     "execution_count": 6,
     "metadata": {},
     "output_type": "execute_result"
    }
   ],
   "source": [
    "df.Baths.unique()"
   ]
  },
  {
   "cell_type": "markdown",
   "id": "24539e06",
   "metadata": {},
   "source": [
    "## Data Visulization"
   ]
  },
  {
   "cell_type": "code",
   "execution_count": 7,
   "id": "948acc04",
   "metadata": {
    "scrolled": true
   },
   "outputs": [
    {
     "name": "stdout",
     "output_type": "stream",
     "text": [
      "Numbers Of Area Type :\n",
      "\n",
      "Super built-up Area    69918\n",
      "Carpet Area            36847\n",
      "Built-up Area          29104\n",
      "Plot Area              10659\n",
      "Name: build_up_area, dtype: int64\n"
     ]
    },
    {
     "data": {
      "text/plain": [
       "<AxesSubplot:xlabel='build_up_area', ylabel='count'>"
      ]
     },
     "execution_count": 7,
     "metadata": {},
     "output_type": "execute_result"
    },
    {
     "data": {
      "image/png": "[encoded data removed]",
      "text/plain": [
       "<Figure size 1296x432 with 1 Axes>"
      ]
     },
     "metadata": {},
     "output_type": "display_data"
    }
   ],
   "source": [
    "print(\"Numbers Of Area Type :\")\n",
    "print()\n",
    "print(df['build_up_area'].value_counts())\n",
    "sns.set(rc = {'figure.figsize':(18,6)})\n",
    "sns.countplot(x='build_up_area', data=df, palette = 'Set2')"
   ]
  },
  {
   "cell_type": "code",
   "execution_count": 8,
   "id": "9b520ff8",
   "metadata": {},
   "outputs": [
    {
     "name": "stdout",
     "output_type": "stream",
     "text": [
      "Types of Property :\n",
      "\n",
      "Residential    102024\n",
      "Independent     41243\n",
      "Studio           2606\n",
      "Serviced          363\n",
      "Farm              161\n",
      "for               118\n",
      "Floor              13\n",
      "Name: Type_of_property, dtype: int64\n"
     ]
    },
    {
     "data": {
      "text/plain": [
       "<AxesSubplot:xlabel='Type_of_property', ylabel='count'>"
      ]
     },
     "execution_count": 8,
     "metadata": {},
     "output_type": "execute_result"
    },
    {
     "data": {
      "image/png": "[encoded data removed]",
      "text/plain": [
       "<Figure size 1080x288 with 1 Axes>"
      ]
     },
     "metadata": {},
     "output_type": "display_data"
    }
   ],
   "source": [
    "print(\"Types of Property :\")\n",
    "print()\n",
    "print(df['Type_of_property'].value_counts())\n",
    "sns.set(rc = {'figure.figsize':(15,4)})\n",
    "sns.countplot(x='Type_of_property', data=df, palette = 'Set2')"
   ]
  },
  {
   "cell_type": "code",
   "execution_count": 9,
   "id": "d8a325df",
   "metadata": {},
   "outputs": [
    {
     "name": "stdout",
     "output_type": "stream",
     "text": [
      "Property Located Based On City :- \n",
      "\n",
      "ncr            42016\n",
      "mumbai         37566\n",
      "bangalore      25600\n",
      "pune           18176\n",
      "chennai         9973\n",
      "hyderabad       7131\n",
      "Ahmedabad       5602\n",
      "Trivandraum      464\n",
      "Name: city, dtype: int64\n"
     ]
    },
    {
     "data": {
      "text/plain": [
       "<AxesSubplot:xlabel='city', ylabel='count'>"
      ]
     },
     "execution_count": 9,
     "metadata": {},
     "output_type": "execute_result"
    },
    {
     "data": {
      "image/png": "[encoded data removed]",
      "text/plain": [
       "<Figure size 1080x288 with 1 Axes>"
      ]
     },
     "metadata": {},
     "output_type": "display_data"
    }
   ],
   "source": [
    "print(\"Property Located Based On City :- \")\n",
    "print()\n",
    "print(df['city'].value_counts())\n",
    "sns.set(rc = {'figure.figsize':(15,4)})\n",
    "sns.countplot(x='city', data=df, palette = 'Set2')"
   ]
  },
  {
   "cell_type": "code",
   "execution_count": 10,
   "id": "bf719274",
   "metadata": {
    "scrolled": true
   },
   "outputs": [
    {
     "name": "stdout",
     "output_type": "stream",
     "text": [
      "Property Located Based On City :- \n",
      "\n",
      "city       location_of_the_property\n",
      "Ahmedabad  South Bopal                 542\n",
      "           Satellite                   372\n",
      "           Vaishnodevi Circle          240\n",
      "           Thaltej                     232\n",
      "           Gota                        227\n",
      "                                      ... \n",
      "pune       wadheshwar nagar              1\n",
      "           wakad                         1\n",
      "           wakad ,pune                   1\n",
      "           wakad bridge                  1\n",
      "           yerwada                       1\n",
      "Name: location_of_the_property, Length: 12859, dtype: int64\n"
     ]
    },
    {
     "data": {
      "text/plain": [
       "<AxesSubplot:xlabel='city', ylabel='count'>"
      ]
     },
     "execution_count": 10,
     "metadata": {},
     "output_type": "execute_result"
    },
    {
     "data": {
      "image/png": "[encoded data removed]",
      "text/plain": [
       "<Figure size 1080x288 with 1 Axes>"
      ]
     },
     "metadata": {},
     "output_type": "display_data"
    }
   ],
   "source": [
    "print(\"Property Located Based On City :- \")\n",
    "print()\n",
    "print(df.groupby('city')['location_of_the_property'].value_counts())\n",
    "sns.set(rc = {'figure.figsize':(15,4)})\n",
    "sns.countplot(x='city', data=df, palette = 'Set2')"
   ]
  },
  {
   "cell_type": "markdown",
   "id": "575a9ab9",
   "metadata": {},
   "source": [
    "### Checking Correlation"
   ]
  },
  {
   "cell_type": "code",
   "execution_count": 11,
   "id": "42695b88",
   "metadata": {},
   "outputs": [
    {
     "data": {
      "text/html": [
       "<div>\n",
       "<style scoped>\n",
       "    .dataframe tbody tr th:only-of-type {\n",
       "        vertical-align: middle;\n",
       "    }\n",
       "\n",
       "    .dataframe tbody tr th {\n",
       "        vertical-align: top;\n",
       "    }\n",
       "\n",
       "    .dataframe thead th {\n",
       "        text-align: right;\n",
       "    }\n",
       "</style>\n",
       "<table border=\"1\" class=\"dataframe\">\n",
       "  <thead>\n",
       "    <tr style=\"text-align: right;\">\n",
       "      <th></th>\n",
       "      <th>monthly_rant</th>\n",
       "      <th>BHKS</th>\n",
       "      <th>sqft_per_inch</th>\n",
       "      <th>deposit</th>\n",
       "    </tr>\n",
       "  </thead>\n",
       "  <tbody>\n",
       "    <tr>\n",
       "      <th>monthly_rant</th>\n",
       "      <td>1.000000</td>\n",
       "      <td>0.328428</td>\n",
       "      <td>0.002948</td>\n",
       "      <td>0.635764</td>\n",
       "    </tr>\n",
       "    <tr>\n",
       "      <th>BHKS</th>\n",
       "      <td>0.328428</td>\n",
       "      <td>1.000000</td>\n",
       "      <td>0.002898</td>\n",
       "      <td>0.341362</td>\n",
       "    </tr>\n",
       "    <tr>\n",
       "      <th>sqft_per_inch</th>\n",
       "      <td>0.002948</td>\n",
       "      <td>0.002898</td>\n",
       "      <td>1.000000</td>\n",
       "      <td>0.002275</td>\n",
       "    </tr>\n",
       "    <tr>\n",
       "      <th>deposit</th>\n",
       "      <td>0.635764</td>\n",
       "      <td>0.341362</td>\n",
       "      <td>0.002275</td>\n",
       "      <td>1.000000</td>\n",
       "    </tr>\n",
       "  </tbody>\n",
       "</table>\n",
       "</div>"
      ],
      "text/plain": [
       "               monthly_rant      BHKS  sqft_per_inch   deposit\n",
       "monthly_rant       1.000000  0.328428       0.002948  0.635764\n",
       "BHKS               0.328428  1.000000       0.002898  0.341362\n",
       "sqft_per_inch      0.002948  0.002898       1.000000  0.002275\n",
       "deposit            0.635764  0.341362       0.002275  1.000000"
      ]
     },
     "execution_count": 11,
     "metadata": {},
     "output_type": "execute_result"
    }
   ],
   "source": [
    "df.corr()"
   ]
  },
  {
   "cell_type": "code",
   "execution_count": 12,
   "id": "3d26381d",
   "metadata": {},
   "outputs": [],
   "source": [
    "corr = df.corr()"
   ]
  },
  {
   "cell_type": "code",
   "execution_count": 13,
   "id": "86d40ee7",
   "metadata": {},
   "outputs": [
    {
     "data": {
      "text/plain": [
       "<AxesSubplot:>"
      ]
     },
     "execution_count": 13,
     "metadata": {},
     "output_type": "execute_result"
    },
    {
     "data": {
      "image/png": "[encoded data removed]",
      "text/plain": [
       "<Figure size 1080x288 with 2 Axes>"
      ]
     },
     "metadata": {},
     "output_type": "display_data"
    }
   ],
   "source": [
    "sns.heatmap(corr,annot=True)"
   ]
  },
  {
   "cell_type": "markdown",
   "id": "3f29cf58",
   "metadata": {},
   "source": [
    "## Column Baths"
   ]
  },
  {
   "cell_type": "code",
   "execution_count": 14,
   "id": "632ba417",
   "metadata": {},
   "outputs": [],
   "source": [
    "# Droping a features\n",
    "df.drop('Baths',axis=1,inplace=True)"
   ]
  },
  {
   "cell_type": "markdown",
   "id": "560d6bc1",
   "metadata": {},
   "source": [
    "## Column Deposite"
   ]
  },
  {
   "cell_type": "code",
   "execution_count": 15,
   "id": "5f91df64",
   "metadata": {},
   "outputs": [
    {
     "data": {
      "text/plain": [
       "city                        0\n",
       "monthly_rant                0\n",
       "BHKS                        0\n",
       "sqft_per_inch               0\n",
       "build_up_area               0\n",
       "Type_of_property            0\n",
       "location_of_the_property    0\n",
       "deposit                     0\n",
       "dtype: int64"
      ]
     },
     "execution_count": 15,
     "metadata": {},
     "output_type": "execute_result"
    }
   ],
   "source": [
    "#Checking Null values\n",
    "df.isnull().sum()"
   ]
  },
  {
   "cell_type": "code",
   "execution_count": 16,
   "id": "06df8a9e",
   "metadata": {},
   "outputs": [
    {
     "data": {
      "text/plain": [
       "array(['Carpet Area', 'Super built-up Area', 'Built-up Area', 'Plot Area'],\n",
       "      dtype=object)"
      ]
     },
     "execution_count": 16,
     "metadata": {},
     "output_type": "execute_result"
    }
   ],
   "source": [
    "# How many unique categories is there\n",
    "df.build_up_area.unique()"
   ]
  },
  {
   "cell_type": "code",
   "execution_count": 17,
   "id": "d5c190a1",
   "metadata": {},
   "outputs": [
    {
     "data": {
      "text/html": [
       "<div>\n",
       "<style scoped>\n",
       "    .dataframe tbody tr th:only-of-type {\n",
       "        vertical-align: middle;\n",
       "    }\n",
       "\n",
       "    .dataframe tbody tr th {\n",
       "        vertical-align: top;\n",
       "    }\n",
       "\n",
       "    .dataframe thead th {\n",
       "        text-align: right;\n",
       "    }\n",
       "</style>\n",
       "<table border=\"1\" class=\"dataframe\">\n",
       "  <thead>\n",
       "    <tr style=\"text-align: right;\">\n",
       "      <th></th>\n",
       "      <th>city</th>\n",
       "      <th>monthly_rant</th>\n",
       "      <th>BHKS</th>\n",
       "      <th>sqft_per_inch</th>\n",
       "      <th>build_up_area</th>\n",
       "      <th>Type_of_property</th>\n",
       "      <th>location_of_the_property</th>\n",
       "      <th>deposit</th>\n",
       "    </tr>\n",
       "  </thead>\n",
       "  <tbody>\n",
       "    <tr>\n",
       "      <th>0</th>\n",
       "      <td>mumbai</td>\n",
       "      <td>17500.0</td>\n",
       "      <td>1.0</td>\n",
       "      <td>470</td>\n",
       "      <td>Carpet Area</td>\n",
       "      <td>Residential</td>\n",
       "      <td>Kolshet Road</td>\n",
       "      <td>75000.0</td>\n",
       "    </tr>\n",
       "    <tr>\n",
       "      <th>1</th>\n",
       "      <td>mumbai</td>\n",
       "      <td>75000.0</td>\n",
       "      <td>3.0</td>\n",
       "      <td>1800</td>\n",
       "      <td>Super built-up Area</td>\n",
       "      <td>Residential</td>\n",
       "      <td>Sector 21 Nerul</td>\n",
       "      <td>400000.0</td>\n",
       "    </tr>\n",
       "  </tbody>\n",
       "</table>\n",
       "</div>"
      ],
      "text/plain": [
       "     city  monthly_rant  BHKS  sqft_per_inch        build_up_area  \\\n",
       "0  mumbai       17500.0   1.0            470          Carpet Area   \n",
       "1  mumbai       75000.0   3.0           1800  Super built-up Area   \n",
       "\n",
       "  Type_of_property location_of_the_property   deposit  \n",
       "0      Residential             Kolshet Road   75000.0  \n",
       "1      Residential          Sector 21 Nerul  400000.0  "
      ]
     },
     "execution_count": 17,
     "metadata": {},
     "output_type": "execute_result"
    }
   ],
   "source": [
    "df.head(2)"
   ]
  },
  {
   "cell_type": "markdown",
   "id": "bf619a1a",
   "metadata": {},
   "source": [
    "## Column Type Of Property"
   ]
  },
  {
   "cell_type": "code",
   "execution_count": 18,
   "id": "4096f6cf",
   "metadata": {},
   "outputs": [
    {
     "data": {
      "text/plain": [
       "array(['Residential', 'Independent', 'Studio', 'Serviced', 'for', 'Farm',\n",
       "       'Floor'], dtype=object)"
      ]
     },
     "execution_count": 18,
     "metadata": {},
     "output_type": "execute_result"
    }
   ],
   "source": [
    "# Checking Unique Values\n",
    "df.Type_of_property.unique()"
   ]
  },
  {
   "cell_type": "code",
   "execution_count": 19,
   "id": "0d382bde",
   "metadata": {},
   "outputs": [],
   "source": [
    "#df['Type_of_property'] = df['Type_of_property'].str.replace(\"for\",' ')"
   ]
  },
  {
   "cell_type": "code",
   "execution_count": 20,
   "id": "f971ab7b",
   "metadata": {},
   "outputs": [
    {
     "data": {
      "text/plain": [
       "(146528, 8)"
      ]
     },
     "execution_count": 20,
     "metadata": {},
     "output_type": "execute_result"
    }
   ],
   "source": [
    "df.shape"
   ]
  },
  {
   "cell_type": "markdown",
   "id": "4d129e90",
   "metadata": {},
   "source": [
    "### Filtering DataSet"
   ]
  },
  {
   "cell_type": "code",
   "execution_count": 21,
   "id": "bf9b824b",
   "metadata": {},
   "outputs": [
    {
     "data": {
      "text/plain": [
       "(146410, 8)"
      ]
     },
     "execution_count": 21,
     "metadata": {},
     "output_type": "execute_result"
    }
   ],
   "source": [
    "# Removing for\n",
    "df = df[df.Type_of_property!='for']\n",
    "df.shape"
   ]
  },
  {
   "cell_type": "code",
   "execution_count": 22,
   "id": "6f7e0a96",
   "metadata": {},
   "outputs": [
    {
     "data": {
      "text/plain": [
       "(146047, 8)"
      ]
     },
     "execution_count": 22,
     "metadata": {},
     "output_type": "execute_result"
    }
   ],
   "source": [
    "# Removing Serviced\n",
    "df = df[df.Type_of_property!='Serviced']\n",
    "df.shape\n"
   ]
  },
  {
   "cell_type": "code",
   "execution_count": 23,
   "id": "18dcb048",
   "metadata": {},
   "outputs": [
    {
     "data": {
      "text/plain": [
       "(146034, 8)"
      ]
     },
     "execution_count": 23,
     "metadata": {},
     "output_type": "execute_result"
    }
   ],
   "source": [
    "# removing floor\n",
    "df = df[df.Type_of_property!='Floor']\n",
    "df.shape"
   ]
  },
  {
   "cell_type": "code",
   "execution_count": 24,
   "id": "081e9e52",
   "metadata": {},
   "outputs": [
    {
     "data": {
      "text/plain": [
       "array(['Residential', 'Independent', 'Studio', 'Farm'], dtype=object)"
      ]
     },
     "execution_count": 24,
     "metadata": {},
     "output_type": "execute_result"
    }
   ],
   "source": [
    "df.Type_of_property.unique()"
   ]
  },
  {
   "cell_type": "code",
   "execution_count": 25,
   "id": "44a33466",
   "metadata": {
    "scrolled": true
   },
   "outputs": [
    {
     "data": {
      "text/plain": [
       "city                        0\n",
       "monthly_rant                0\n",
       "BHKS                        0\n",
       "sqft_per_inch               0\n",
       "build_up_area               0\n",
       "Type_of_property            0\n",
       "location_of_the_property    0\n",
       "deposit                     0\n",
       "dtype: int64"
      ]
     },
     "execution_count": 25,
     "metadata": {},
     "output_type": "execute_result"
    }
   ],
   "source": [
    "df.isnull().sum()"
   ]
  },
  {
   "cell_type": "markdown",
   "id": "89653eae",
   "metadata": {},
   "source": [
    "## -----------------------------------------------------------------------------------------------------------------------------"
   ]
  },
  {
   "cell_type": "markdown",
   "id": "3efc7ab3",
   "metadata": {},
   "source": [
    "## Outlier Treatment\n",
    "### deposit"
   ]
  },
  {
   "cell_type": "code",
   "execution_count": 26,
   "id": "92aeff9e",
   "metadata": {
    "scrolled": true
   },
   "outputs": [
    {
     "name": "stderr",
     "output_type": "stream",
     "text": [
      "C:\\Users\\HP\\anaconda3\\lib\\site-packages\\seaborn\\_decorators.py:36: FutureWarning: Pass the following variable as a keyword arg: x. From version 0.12, the only valid positional argument will be `data`, and passing other arguments without an explicit keyword will result in an error or misinterpretation.\n",
      "  warnings.warn(\n"
     ]
    },
    {
     "data": {
      "text/plain": [
       "<AxesSubplot:xlabel='deposit'>"
      ]
     },
     "execution_count": 26,
     "metadata": {},
     "output_type": "execute_result"
    },
    {
     "data": {
      "image/png": "[encoded data removed]",
      "text/plain": [
       "<Figure size 1080x288 with 1 Axes>"
      ]
     },
     "metadata": {},
     "output_type": "display_data"
    }
   ],
   "source": [
    "sns.boxplot(df['deposit'])"
   ]
  },
  {
   "cell_type": "code",
   "execution_count": 27,
   "id": "a5e9b385",
   "metadata": {},
   "outputs": [],
   "source": [
    "df['deposit'] = np.log(df['deposit']+1)"
   ]
  },
  {
   "cell_type": "code",
   "execution_count": 28,
   "id": "d1508f36",
   "metadata": {},
   "outputs": [],
   "source": [
    "Q1 = df['deposit'].quantile(0.25)\n",
    "Q3 = df['deposit'].quantile(0.75)\n",
    "IQR = Q3 - Q1"
   ]
  },
  {
   "cell_type": "code",
   "execution_count": 29,
   "id": "ee66bc3f",
   "metadata": {},
   "outputs": [],
   "source": [
    "((df['deposit'] < (Q1 - 1.5 * IQR)) | (df['deposit'] > (Q3 + 1.5 * IQR))).mean()\n",
    "\n",
    "mask = (df['deposit'] < (Q1 - 1.5 * IQR)) | (df['deposit'] > (Q3 + 1.5 * IQR))\n",
    "df[mask] = np.nan"
   ]
  },
  {
   "cell_type": "code",
   "execution_count": 30,
   "id": "b5f3dfe5",
   "metadata": {
    "scrolled": true
   },
   "outputs": [
    {
     "name": "stderr",
     "output_type": "stream",
     "text": [
      "C:\\Users\\HP\\anaconda3\\lib\\site-packages\\seaborn\\_decorators.py:36: FutureWarning: Pass the following variable as a keyword arg: x. From version 0.12, the only valid positional argument will be `data`, and passing other arguments without an explicit keyword will result in an error or misinterpretation.\n",
      "  warnings.warn(\n"
     ]
    },
    {
     "data": {
      "text/plain": [
       "<AxesSubplot:xlabel='deposit'>"
      ]
     },
     "execution_count": 30,
     "metadata": {},
     "output_type": "execute_result"
    },
    {
     "data": {
      "image/png": "[encoded data removed]",
      "text/plain": [
       "<Figure size 1080x288 with 1 Axes>"
      ]
     },
     "metadata": {},
     "output_type": "display_data"
    }
   ],
   "source": [
    "sns.boxplot(df['deposit'])"
   ]
  },
  {
   "cell_type": "markdown",
   "id": "4de29be7",
   "metadata": {},
   "source": [
    "* We clearly observed in boxplot data is right skewed"
   ]
  },
  {
   "cell_type": "code",
   "execution_count": 31,
   "id": "4e797726",
   "metadata": {},
   "outputs": [
    {
     "data": {
      "text/plain": [
       "city                        2263\n",
       "monthly_rant                2263\n",
       "BHKS                        2263\n",
       "sqft_per_inch               2263\n",
       "build_up_area               2263\n",
       "Type_of_property            2263\n",
       "location_of_the_property    2263\n",
       "deposit                     2263\n",
       "dtype: int64"
      ]
     },
     "execution_count": 31,
     "metadata": {},
     "output_type": "execute_result"
    }
   ],
   "source": [
    "df.isnull().sum()"
   ]
  },
  {
   "cell_type": "code",
   "execution_count": 32,
   "id": "8894aa0e",
   "metadata": {},
   "outputs": [],
   "source": [
    "df.dropna(inplace=True)"
   ]
  },
  {
   "cell_type": "code",
   "execution_count": 33,
   "id": "787c6ab2",
   "metadata": {},
   "outputs": [
    {
     "data": {
      "text/plain": [
       "<AxesSubplot:>"
      ]
     },
     "execution_count": 33,
     "metadata": {},
     "output_type": "execute_result"
    },
    {
     "data": {
      "image/png": "[encoded data removed]",
      "text/plain": [
       "<Figure size 1080x288 with 1 Axes>"
      ]
     },
     "metadata": {},
     "output_type": "display_data"
    }
   ],
   "source": [
    "df['deposit'].hist()"
   ]
  },
  {
   "cell_type": "code",
   "execution_count": 34,
   "id": "39352399",
   "metadata": {},
   "outputs": [],
   "source": [
    "#df['deposit']=df['deposit']**(1/2)\n",
    "#df['deposit'].hist()"
   ]
  },
  {
   "cell_type": "code",
   "execution_count": 35,
   "id": "7132853a",
   "metadata": {
    "scrolled": true
   },
   "outputs": [
    {
     "data": {
      "text/html": [
       "<div>\n",
       "<style scoped>\n",
       "    .dataframe tbody tr th:only-of-type {\n",
       "        vertical-align: middle;\n",
       "    }\n",
       "\n",
       "    .dataframe tbody tr th {\n",
       "        vertical-align: top;\n",
       "    }\n",
       "\n",
       "    .dataframe thead th {\n",
       "        text-align: right;\n",
       "    }\n",
       "</style>\n",
       "<table border=\"1\" class=\"dataframe\">\n",
       "  <thead>\n",
       "    <tr style=\"text-align: right;\">\n",
       "      <th></th>\n",
       "      <th>city</th>\n",
       "      <th>monthly_rant</th>\n",
       "      <th>BHKS</th>\n",
       "      <th>sqft_per_inch</th>\n",
       "      <th>build_up_area</th>\n",
       "      <th>Type_of_property</th>\n",
       "      <th>location_of_the_property</th>\n",
       "      <th>deposit</th>\n",
       "    </tr>\n",
       "  </thead>\n",
       "  <tbody>\n",
       "    <tr>\n",
       "      <th>0</th>\n",
       "      <td>mumbai</td>\n",
       "      <td>17500.0</td>\n",
       "      <td>1.0</td>\n",
       "      <td>470.0</td>\n",
       "      <td>Carpet Area</td>\n",
       "      <td>Residential</td>\n",
       "      <td>Kolshet Road</td>\n",
       "      <td>11.225257</td>\n",
       "    </tr>\n",
       "    <tr>\n",
       "      <th>1</th>\n",
       "      <td>mumbai</td>\n",
       "      <td>75000.0</td>\n",
       "      <td>3.0</td>\n",
       "      <td>1800.0</td>\n",
       "      <td>Super built-up Area</td>\n",
       "      <td>Residential</td>\n",
       "      <td>Sector 21 Nerul</td>\n",
       "      <td>12.899222</td>\n",
       "    </tr>\n",
       "  </tbody>\n",
       "</table>\n",
       "</div>"
      ],
      "text/plain": [
       "     city  monthly_rant  BHKS  sqft_per_inch        build_up_area  \\\n",
       "0  mumbai       17500.0   1.0          470.0          Carpet Area   \n",
       "1  mumbai       75000.0   3.0         1800.0  Super built-up Area   \n",
       "\n",
       "  Type_of_property location_of_the_property    deposit  \n",
       "0      Residential             Kolshet Road  11.225257  \n",
       "1      Residential          Sector 21 Nerul  12.899222  "
      ]
     },
     "execution_count": 35,
     "metadata": {},
     "output_type": "execute_result"
    }
   ],
   "source": [
    "df.head(2)"
   ]
  },
  {
   "cell_type": "markdown",
   "id": "d673f1fc",
   "metadata": {},
   "source": [
    "## sqft_per_inch"
   ]
  },
  {
   "cell_type": "code",
   "execution_count": 36,
   "id": "0f8dda55",
   "metadata": {
    "scrolled": false
   },
   "outputs": [
    {
     "name": "stderr",
     "output_type": "stream",
     "text": [
      "C:\\Users\\HP\\anaconda3\\lib\\site-packages\\seaborn\\_decorators.py:36: FutureWarning: Pass the following variable as a keyword arg: x. From version 0.12, the only valid positional argument will be `data`, and passing other arguments without an explicit keyword will result in an error or misinterpretation.\n",
      "  warnings.warn(\n"
     ]
    },
    {
     "data": {
      "text/plain": [
       "<AxesSubplot:xlabel='sqft_per_inch'>"
      ]
     },
     "execution_count": 36,
     "metadata": {},
     "output_type": "execute_result"
    },
    {
     "data": {
      "image/png": "[encoded data removed]",
      "text/plain": [
       "<Figure size 1080x288 with 1 Axes>"
      ]
     },
     "metadata": {},
     "output_type": "display_data"
    }
   ],
   "source": [
    "sns.boxplot(df.sqft_per_inch)"
   ]
  },
  {
   "cell_type": "code",
   "execution_count": 37,
   "id": "009bb673",
   "metadata": {},
   "outputs": [],
   "source": [
    "Q1 = df['sqft_per_inch'].quantile(0.25)\n",
    "Q3 = df['sqft_per_inch'].quantile(0.75)\n",
    "IQR = Q3 - Q1"
   ]
  },
  {
   "cell_type": "code",
   "execution_count": 38,
   "id": "8135d51e",
   "metadata": {},
   "outputs": [],
   "source": [
    "((df['sqft_per_inch'] < (Q1 - 1.5 * IQR)) | (df['sqft_per_inch'] > (Q3 + 1.5 * IQR))).mean()\n",
    "\n",
    "mask = (df['sqft_per_inch'] < (Q1 - 1.5 * IQR)) | (df['sqft_per_inch'] > (Q3 + 1.5 * IQR))\n",
    "df[mask] = np.nan"
   ]
  },
  {
   "cell_type": "code",
   "execution_count": 39,
   "id": "bcee063b",
   "metadata": {
    "scrolled": true
   },
   "outputs": [
    {
     "name": "stderr",
     "output_type": "stream",
     "text": [
      "C:\\Users\\HP\\anaconda3\\lib\\site-packages\\seaborn\\_decorators.py:36: FutureWarning: Pass the following variable as a keyword arg: x. From version 0.12, the only valid positional argument will be `data`, and passing other arguments without an explicit keyword will result in an error or misinterpretation.\n",
      "  warnings.warn(\n"
     ]
    },
    {
     "data": {
      "text/plain": [
       "<AxesSubplot:xlabel='sqft_per_inch'>"
      ]
     },
     "execution_count": 39,
     "metadata": {},
     "output_type": "execute_result"
    },
    {
     "data": {
      "image/png": "[encoded data removed]",
      "text/plain": [
       "<Figure size 1080x288 with 1 Axes>"
      ]
     },
     "metadata": {},
     "output_type": "display_data"
    }
   ],
   "source": [
    "sns.boxplot(df.sqft_per_inch)"
   ]
  },
  {
   "cell_type": "code",
   "execution_count": 40,
   "id": "1926d4ee",
   "metadata": {},
   "outputs": [
    {
     "data": {
      "text/plain": [
       "city                        6755\n",
       "monthly_rant                6755\n",
       "BHKS                        6755\n",
       "sqft_per_inch               6755\n",
       "build_up_area               6755\n",
       "Type_of_property            6755\n",
       "location_of_the_property    6755\n",
       "deposit                     6755\n",
       "dtype: int64"
      ]
     },
     "execution_count": 40,
     "metadata": {},
     "output_type": "execute_result"
    }
   ],
   "source": [
    "df.isnull().sum()"
   ]
  },
  {
   "cell_type": "code",
   "execution_count": 41,
   "id": "d442f320",
   "metadata": {},
   "outputs": [],
   "source": [
    "df.dropna(inplace=True)"
   ]
  },
  {
   "cell_type": "code",
   "execution_count": 42,
   "id": "82d07725",
   "metadata": {
    "scrolled": false
   },
   "outputs": [
    {
     "data": {
      "text/html": [
       "<div>\n",
       "<style scoped>\n",
       "    .dataframe tbody tr th:only-of-type {\n",
       "        vertical-align: middle;\n",
       "    }\n",
       "\n",
       "    .dataframe tbody tr th {\n",
       "        vertical-align: top;\n",
       "    }\n",
       "\n",
       "    .dataframe thead th {\n",
       "        text-align: right;\n",
       "    }\n",
       "</style>\n",
       "<table border=\"1\" class=\"dataframe\">\n",
       "  <thead>\n",
       "    <tr style=\"text-align: right;\">\n",
       "      <th></th>\n",
       "      <th>city</th>\n",
       "      <th>monthly_rant</th>\n",
       "      <th>BHKS</th>\n",
       "      <th>sqft_per_inch</th>\n",
       "      <th>build_up_area</th>\n",
       "      <th>Type_of_property</th>\n",
       "      <th>location_of_the_property</th>\n",
       "      <th>deposit</th>\n",
       "    </tr>\n",
       "  </thead>\n",
       "  <tbody>\n",
       "    <tr>\n",
       "      <th>0</th>\n",
       "      <td>mumbai</td>\n",
       "      <td>17500.0</td>\n",
       "      <td>1.0</td>\n",
       "      <td>470.0</td>\n",
       "      <td>Carpet Area</td>\n",
       "      <td>Residential</td>\n",
       "      <td>Kolshet Road</td>\n",
       "      <td>11.225257</td>\n",
       "    </tr>\n",
       "    <tr>\n",
       "      <th>1</th>\n",
       "      <td>mumbai</td>\n",
       "      <td>75000.0</td>\n",
       "      <td>3.0</td>\n",
       "      <td>1800.0</td>\n",
       "      <td>Super built-up Area</td>\n",
       "      <td>Residential</td>\n",
       "      <td>Sector 21 Nerul</td>\n",
       "      <td>12.899222</td>\n",
       "    </tr>\n",
       "  </tbody>\n",
       "</table>\n",
       "</div>"
      ],
      "text/plain": [
       "     city  monthly_rant  BHKS  sqft_per_inch        build_up_area  \\\n",
       "0  mumbai       17500.0   1.0          470.0          Carpet Area   \n",
       "1  mumbai       75000.0   3.0         1800.0  Super built-up Area   \n",
       "\n",
       "  Type_of_property location_of_the_property    deposit  \n",
       "0      Residential             Kolshet Road  11.225257  \n",
       "1      Residential          Sector 21 Nerul  12.899222  "
      ]
     },
     "execution_count": 42,
     "metadata": {},
     "output_type": "execute_result"
    }
   ],
   "source": [
    "df.head(2)"
   ]
  },
  {
   "cell_type": "code",
   "execution_count": 43,
   "id": "e9bd0073",
   "metadata": {},
   "outputs": [],
   "source": [
    "df.drop('location_of_the_property',axis=1,inplace=True)"
   ]
  },
  {
   "cell_type": "markdown",
   "id": "f50792ca",
   "metadata": {},
   "source": [
    "# --------------------------------------------------------------------------------------------------------"
   ]
  },
  {
   "cell_type": "code",
   "execution_count": 44,
   "id": "12ace763",
   "metadata": {},
   "outputs": [
    {
     "data": {
      "text/plain": [
       "(137016, 7)"
      ]
     },
     "execution_count": 44,
     "metadata": {},
     "output_type": "execute_result"
    }
   ],
   "source": [
    "df.shape"
   ]
  },
  {
   "cell_type": "code",
   "execution_count": 45,
   "id": "8f1e7dc0",
   "metadata": {},
   "outputs": [
    {
     "data": {
      "text/plain": [
       "monthly_rant     99.327773\n",
       "BHKS              1.515366\n",
       "sqft_per_inch     0.726170\n",
       "deposit          -0.007746\n",
       "dtype: float64"
      ]
     },
     "execution_count": 45,
     "metadata": {},
     "output_type": "execute_result"
    }
   ],
   "source": [
    "df.skew()"
   ]
  },
  {
   "cell_type": "markdown",
   "id": "d23ef3ff",
   "metadata": {},
   "source": [
    "## Data Transformation"
   ]
  },
  {
   "cell_type": "code",
   "execution_count": 46,
   "id": "87b83af5",
   "metadata": {},
   "outputs": [],
   "source": [
    "df['monthly_rant'] = np.log(df['monthly_rant']+1)"
   ]
  },
  {
   "cell_type": "code",
   "execution_count": 47,
   "id": "48dbc2ef",
   "metadata": {},
   "outputs": [
    {
     "data": {
      "text/plain": [
       "monthly_rant     0.602061\n",
       "BHKS             1.515366\n",
       "sqft_per_inch    0.726170\n",
       "deposit         -0.007746\n",
       "dtype: float64"
      ]
     },
     "execution_count": 47,
     "metadata": {},
     "output_type": "execute_result"
    }
   ],
   "source": [
    "df.skew()"
   ]
  },
  {
   "cell_type": "code",
   "execution_count": 48,
   "id": "b318da96",
   "metadata": {},
   "outputs": [
    {
     "data": {
      "text/plain": [
       "(32.0, 1.0)"
      ]
     },
     "execution_count": 48,
     "metadata": {},
     "output_type": "execute_result"
    }
   ],
   "source": [
    "df.BHKS.max(), df.BHKS.min()"
   ]
  },
  {
   "cell_type": "code",
   "execution_count": 49,
   "id": "5b3f80bd",
   "metadata": {
    "scrolled": true
   },
   "outputs": [
    {
     "name": "stdout",
     "output_type": "stream",
     "text": [
      "<class 'pandas.core.frame.DataFrame'>\n",
      "Int64Index: 137016 entries, 0 to 146527\n",
      "Data columns (total 7 columns):\n",
      " #   Column            Non-Null Count   Dtype  \n",
      "---  ------            --------------   -----  \n",
      " 0   city              137016 non-null  object \n",
      " 1   monthly_rant      137016 non-null  float64\n",
      " 2   BHKS              137016 non-null  float64\n",
      " 3   sqft_per_inch     137016 non-null  float64\n",
      " 4   build_up_area     137016 non-null  object \n",
      " 5   Type_of_property  137016 non-null  object \n",
      " 6   deposit           137016 non-null  float64\n",
      "dtypes: float64(4), object(3)\n",
      "memory usage: 8.4+ MB\n"
     ]
    }
   ],
   "source": [
    "df.info()"
   ]
  },
  {
   "cell_type": "markdown",
   "id": "915b70a0",
   "metadata": {},
   "source": [
    "# Encoding"
   ]
  },
  {
   "cell_type": "code",
   "execution_count": 50,
   "id": "ac7e69c1",
   "metadata": {},
   "outputs": [],
   "source": [
    "from sklearn.preprocessing import LabelEncoder\n",
    "\n",
    "cty = LabelEncoder()\n",
    "b_u_a = LabelEncoder()\n",
    "T_o_p = LabelEncoder()\n",
    "#l_o_t_p = LabelEncoder()\n",
    "\n",
    "\n",
    "df['city'] = cty.fit_transform(df['city'])\n",
    "df['build_up_area'] = b_u_a.fit_transform(df['build_up_area'])\n",
    "df['Type_of_property'] = T_o_p.fit_transform(df['Type_of_property'])\n",
    "#df['location_of_the_property'] = l_o_t_p.fit_transform(df['location_of_the_property'])\n"
   ]
  },
  {
   "cell_type": "code",
   "execution_count": 51,
   "id": "857243e5",
   "metadata": {},
   "outputs": [
    {
     "name": "stdout",
     "output_type": "stream",
     "text": [
      "city [5 7 3 2 4 0 6 1]\n",
      "['mumbai' 'pune' 'chennai' 'bangalore' 'hyderabad' 'Ahmedabad' 'ncr'\n",
      " 'Trivandraum']\n",
      "\n",
      "build_up_area: [1 3 0 2]\n",
      "['Carpet Area' 'Super built-up Area' 'Built-up Area' 'Plot Area']\n",
      "\n",
      "Type_of_property [2 1 3 0]\n",
      "['Residential' 'Independent' 'Studio' 'Farm']\n",
      "\n"
     ]
    }
   ],
   "source": [
    "print(\"city\",df['city'].unique())\n",
    "print(cty.inverse_transform(list(df['city'].unique())))\n",
    "print()\n",
    "print(\"build_up_area:\",df['build_up_area'].unique())\n",
    "print(b_u_a.inverse_transform(list(df['build_up_area'].unique())))\n",
    "print()\n",
    "print(\"Type_of_property\", df['Type_of_property'].unique())\n",
    "print(T_o_p.inverse_transform(list(df['Type_of_property'].unique())))\n",
    "print()\n",
    "#print(\"location_of_the_property\",df['location_of_the_property'].unique())\n",
    "#print(l_o_t_p.inverse_transform(list(df['location_of_the_property'].unique())))\n"
   ]
  },
  {
   "cell_type": "code",
   "execution_count": 52,
   "id": "15cbc0ff",
   "metadata": {
    "scrolled": false
   },
   "outputs": [
    {
     "data": {
      "text/html": [
       "<div>\n",
       "<style scoped>\n",
       "    .dataframe tbody tr th:only-of-type {\n",
       "        vertical-align: middle;\n",
       "    }\n",
       "\n",
       "    .dataframe tbody tr th {\n",
       "        vertical-align: top;\n",
       "    }\n",
       "\n",
       "    .dataframe thead th {\n",
       "        text-align: right;\n",
       "    }\n",
       "</style>\n",
       "<table border=\"1\" class=\"dataframe\">\n",
       "  <thead>\n",
       "    <tr style=\"text-align: right;\">\n",
       "      <th></th>\n",
       "      <th>city</th>\n",
       "      <th>monthly_rant</th>\n",
       "      <th>BHKS</th>\n",
       "      <th>sqft_per_inch</th>\n",
       "      <th>build_up_area</th>\n",
       "      <th>Type_of_property</th>\n",
       "      <th>deposit</th>\n",
       "    </tr>\n",
       "  </thead>\n",
       "  <tbody>\n",
       "    <tr>\n",
       "      <th>0</th>\n",
       "      <td>5</td>\n",
       "      <td>9.770013</td>\n",
       "      <td>1.0</td>\n",
       "      <td>470.0</td>\n",
       "      <td>1</td>\n",
       "      <td>2</td>\n",
       "      <td>11.225257</td>\n",
       "    </tr>\n",
       "    <tr>\n",
       "      <th>1</th>\n",
       "      <td>5</td>\n",
       "      <td>11.225257</td>\n",
       "      <td>3.0</td>\n",
       "      <td>1800.0</td>\n",
       "      <td>3</td>\n",
       "      <td>2</td>\n",
       "      <td>12.899222</td>\n",
       "    </tr>\n",
       "    <tr>\n",
       "      <th>2</th>\n",
       "      <td>5</td>\n",
       "      <td>11.002117</td>\n",
       "      <td>2.0</td>\n",
       "      <td>950.0</td>\n",
       "      <td>3</td>\n",
       "      <td>2</td>\n",
       "      <td>12.206078</td>\n",
       "    </tr>\n",
       "    <tr>\n",
       "      <th>3</th>\n",
       "      <td>5</td>\n",
       "      <td>10.859018</td>\n",
       "      <td>3.0</td>\n",
       "      <td>1300.0</td>\n",
       "      <td>1</td>\n",
       "      <td>2</td>\n",
       "      <td>12.611541</td>\n",
       "    </tr>\n",
       "    <tr>\n",
       "      <th>4</th>\n",
       "      <td>5</td>\n",
       "      <td>10.308986</td>\n",
       "      <td>1.0</td>\n",
       "      <td>550.0</td>\n",
       "      <td>0</td>\n",
       "      <td>2</td>\n",
       "      <td>11.918397</td>\n",
       "    </tr>\n",
       "  </tbody>\n",
       "</table>\n",
       "</div>"
      ],
      "text/plain": [
       "   city  monthly_rant  BHKS  sqft_per_inch  build_up_area  Type_of_property  \\\n",
       "0     5      9.770013   1.0          470.0              1                 2   \n",
       "1     5     11.225257   3.0         1800.0              3                 2   \n",
       "2     5     11.002117   2.0          950.0              3                 2   \n",
       "3     5     10.859018   3.0         1300.0              1                 2   \n",
       "4     5     10.308986   1.0          550.0              0                 2   \n",
       "\n",
       "     deposit  \n",
       "0  11.225257  \n",
       "1  12.899222  \n",
       "2  12.206078  \n",
       "3  12.611541  \n",
       "4  11.918397  "
      ]
     },
     "execution_count": 52,
     "metadata": {},
     "output_type": "execute_result"
    }
   ],
   "source": [
    "df.head()"
   ]
  },
  {
   "cell_type": "code",
   "execution_count": 53,
   "id": "3c6f1ce0",
   "metadata": {},
   "outputs": [
    {
     "name": "stdout",
     "output_type": "stream",
     "text": [
      "<class 'pandas.core.frame.DataFrame'>\n",
      "Int64Index: 137016 entries, 0 to 146527\n",
      "Data columns (total 7 columns):\n",
      " #   Column            Non-Null Count   Dtype  \n",
      "---  ------            --------------   -----  \n",
      " 0   city              137016 non-null  int32  \n",
      " 1   monthly_rant      137016 non-null  float64\n",
      " 2   BHKS              137016 non-null  float64\n",
      " 3   sqft_per_inch     137016 non-null  float64\n",
      " 4   build_up_area     137016 non-null  int32  \n",
      " 5   Type_of_property  137016 non-null  int32  \n",
      " 6   deposit           137016 non-null  float64\n",
      "dtypes: float64(4), int32(3)\n",
      "memory usage: 6.8 MB\n"
     ]
    }
   ],
   "source": [
    "df.info()"
   ]
  },
  {
   "cell_type": "markdown",
   "id": "69ef10d2",
   "metadata": {},
   "source": [
    "## ---------------------------------Modeling----------------------------------------"
   ]
  },
  {
   "cell_type": "code",
   "execution_count": 54,
   "id": "161c7f50",
   "metadata": {},
   "outputs": [],
   "source": [
    "#Seperating the variable Independent matrix X and dependent Vector y\n",
    "\n",
    "X = df.drop('monthly_rant',axis=1)\n",
    "y = df.monthly_rant"
   ]
  },
  {
   "cell_type": "code",
   "execution_count": 55,
   "id": "8631339f",
   "metadata": {},
   "outputs": [
    {
     "data": {
      "text/html": [
       "<div>\n",
       "<style scoped>\n",
       "    .dataframe tbody tr th:only-of-type {\n",
       "        vertical-align: middle;\n",
       "    }\n",
       "\n",
       "    .dataframe tbody tr th {\n",
       "        vertical-align: top;\n",
       "    }\n",
       "\n",
       "    .dataframe thead th {\n",
       "        text-align: right;\n",
       "    }\n",
       "</style>\n",
       "<table border=\"1\" class=\"dataframe\">\n",
       "  <thead>\n",
       "    <tr style=\"text-align: right;\">\n",
       "      <th></th>\n",
       "      <th>city</th>\n",
       "      <th>BHKS</th>\n",
       "      <th>sqft_per_inch</th>\n",
       "      <th>build_up_area</th>\n",
       "      <th>Type_of_property</th>\n",
       "      <th>deposit</th>\n",
       "    </tr>\n",
       "  </thead>\n",
       "  <tbody>\n",
       "    <tr>\n",
       "      <th>0</th>\n",
       "      <td>5</td>\n",
       "      <td>1.0</td>\n",
       "      <td>470.0</td>\n",
       "      <td>1</td>\n",
       "      <td>2</td>\n",
       "      <td>11.225257</td>\n",
       "    </tr>\n",
       "    <tr>\n",
       "      <th>1</th>\n",
       "      <td>5</td>\n",
       "      <td>3.0</td>\n",
       "      <td>1800.0</td>\n",
       "      <td>3</td>\n",
       "      <td>2</td>\n",
       "      <td>12.899222</td>\n",
       "    </tr>\n",
       "  </tbody>\n",
       "</table>\n",
       "</div>"
      ],
      "text/plain": [
       "   city  BHKS  sqft_per_inch  build_up_area  Type_of_property    deposit\n",
       "0     5   1.0          470.0              1                 2  11.225257\n",
       "1     5   3.0         1800.0              3                 2  12.899222"
      ]
     },
     "execution_count": 55,
     "metadata": {},
     "output_type": "execute_result"
    }
   ],
   "source": [
    "X.head(2)"
   ]
  },
  {
   "cell_type": "code",
   "execution_count": 56,
   "id": "079c19e8",
   "metadata": {},
   "outputs": [
    {
     "data": {
      "text/plain": [
       "0     9.770013\n",
       "1    11.225257\n",
       "Name: monthly_rant, dtype: float64"
      ]
     },
     "execution_count": 56,
     "metadata": {},
     "output_type": "execute_result"
    }
   ],
   "source": [
    "y.head(2)"
   ]
  },
  {
   "cell_type": "code",
   "execution_count": 57,
   "id": "220cf6a3",
   "metadata": {},
   "outputs": [],
   "source": [
    "# Spliting the data into Training set & Test set\n",
    "from sklearn.model_selection import train_test_split\n",
    "X_train, X_test, y_train, y_test = train_test_split(X,y, test_size=0.2, random_state=101)"
   ]
  },
  {
   "cell_type": "code",
   "execution_count": 58,
   "id": "8987a8a1",
   "metadata": {},
   "outputs": [
    {
     "data": {
      "text/plain": [
       "(109612, 6)"
      ]
     },
     "execution_count": 58,
     "metadata": {},
     "output_type": "execute_result"
    }
   ],
   "source": [
    "X_train.shape"
   ]
  },
  {
   "cell_type": "code",
   "execution_count": 59,
   "id": "9a0b5ba6",
   "metadata": {},
   "outputs": [
    {
     "data": {
      "text/plain": [
       "RandomForestRegressor()"
      ]
     },
     "execution_count": 59,
     "metadata": {},
     "output_type": "execute_result"
    }
   ],
   "source": [
    "# Random Forest\n",
    "from sklearn.ensemble import RandomForestRegressor\n",
    "forest = RandomForestRegressor()\n",
    "forest.fit(X_train,y_train)"
   ]
  },
  {
   "cell_type": "code",
   "execution_count": 60,
   "id": "f4c7fb5d",
   "metadata": {},
   "outputs": [],
   "source": [
    "y_predict=forest.predict(X_test)\n",
    "y_predict_train=forest.predict(X_train)"
   ]
  },
  {
   "cell_type": "code",
   "execution_count": 61,
   "id": "887c8c8a",
   "metadata": {},
   "outputs": [
    {
     "name": "stdout",
     "output_type": "stream",
     "text": [
      "Random Forest Train r2_score 0.9531721766943883\n",
      "Random Forest Test r2_score 0.8779015535164995\n"
     ]
    }
   ],
   "source": [
    "from sklearn.metrics import r2_score\n",
    "\n",
    "print('Random Forest Train r2_score',r2_score(y_train,y_predict_train))\n",
    "print('Random Forest Test r2_score',r2_score(y_test,y_predict))"
   ]
  },
  {
   "cell_type": "code",
   "execution_count": 62,
   "id": "a0e5ca1d",
   "metadata": {},
   "outputs": [
    {
     "name": "stdout",
     "output_type": "stream",
     "text": [
      "{'n_estimators': [10, 200], 'max_features': ['auto', 'sqrt'], 'max_depth': [10, 20, 30, 40, 50, 60, 70, 80, 90, 100, 110, None], 'min_samples_split': [2, 5, 10], 'min_samples_leaf': [1, 2, 4], 'bootstrap': [True, False]}\n"
     ]
    }
   ],
   "source": [
    "from sklearn.model_selection import RandomizedSearchCV\n",
    "# Number of trees in random forest\n",
    "n_estimators = [int(x) for x in np.linspace(start = 10, stop = 200, num = 2)]\n",
    "# Number of features to consider at every split\n",
    "max_features = ['auto', 'sqrt']\n",
    "# Maximum number of levels in tree\n",
    "max_depth = [int(x) for x in np.linspace(10, 110, num = 11)]\n",
    "max_depth.append(None)\n",
    "# Minimum number of samples required to split a node\n",
    "min_samples_split = [2, 5, 10]\n",
    "# Minimum number of samples required at each leaf node\n",
    "min_samples_leaf = [1, 2, 4]\n",
    "# Method of selecting samples for training each tree\n",
    "bootstrap = [True, False]\n",
    "# Create the random grid\n",
    "random_grid = {'n_estimators': n_estimators,\n",
    "               'max_features': max_features,\n",
    "               'max_depth': max_depth,\n",
    "               'min_samples_split': min_samples_split,\n",
    "               'min_samples_leaf': min_samples_leaf,\n",
    "               'bootstrap': bootstrap}\n",
    "print(random_grid)"
   ]
  },
  {
   "cell_type": "code",
   "execution_count": 63,
   "id": "6dd2ee9b",
   "metadata": {
    "scrolled": true
   },
   "outputs": [
    {
     "name": "stdout",
     "output_type": "stream",
     "text": [
      "Fitting 3 folds for each of 10 candidates, totalling 30 fits\n"
     ]
    },
    {
     "data": {
      "text/plain": [
       "RandomizedSearchCV(cv=3, estimator=RandomForestRegressor(), n_jobs=-1,\n",
       "                   param_distributions={'bootstrap': [True, False],\n",
       "                                        'max_depth': [10, 20, 30, 40, 50, 60,\n",
       "                                                      70, 80, 90, 100, 110,\n",
       "                                                      None],\n",
       "                                        'max_features': ['auto', 'sqrt'],\n",
       "                                        'min_samples_leaf': [1, 2, 4],\n",
       "                                        'min_samples_split': [2, 5, 10],\n",
       "                                        'n_estimators': [10, 200]},\n",
       "                   random_state=42, verbose=2)"
      ]
     },
     "execution_count": 63,
     "metadata": {},
     "output_type": "execute_result"
    }
   ],
   "source": [
    "# Use the random grid to search for best hyperparameters\n",
    "# First create the base model to tune\n",
    "rf = RandomForestRegressor()\n",
    "# Random search of parameters, using 3 fold cross validation, \n",
    "# search across 100 different combinations, and use all available cores\n",
    "rf_random = RandomizedSearchCV(estimator = rf, param_distributions = random_grid, \n",
    "                               n_iter = 10, cv = 3, verbose=2, random_state=42, n_jobs = -1)\n",
    "# Fit the random search model\n",
    "rf_random.fit(X_train,y_train)"
   ]
  },
  {
   "cell_type": "code",
   "execution_count": 64,
   "id": "dde9fafa",
   "metadata": {},
   "outputs": [],
   "source": [
    "y_pred=rf_random.predict(X_test)\n",
    "y_pred_train=rf_random.predict(X_train)"
   ]
  },
  {
   "cell_type": "markdown",
   "id": "a495d996",
   "metadata": {},
   "source": [
    "## Checking Performance of the Model"
   ]
  },
  {
   "cell_type": "code",
   "execution_count": 65,
   "id": "f4ebfb19",
   "metadata": {},
   "outputs": [
    {
     "name": "stdout",
     "output_type": "stream",
     "text": [
      "Random Forest Train r2_score 0.922772713779628\n",
      "Random Forest Test r2_score 0.8883095969322523\n"
     ]
    }
   ],
   "source": [
    "from sklearn.metrics import r2_score\n",
    "\n",
    "print('Random Forest Train r2_score',r2_score(y_train,y_pred_train))\n",
    "print('Random Forest Test r2_score',r2_score(y_test,y_pred))"
   ]
  },
  {
   "cell_type": "code",
   "execution_count": 67,
   "id": "85e4e77c",
   "metadata": {
    "scrolled": true
   },
   "outputs": [
    {
     "data": {
      "text/plain": [
       "array([11.32414449])"
      ]
     },
     "execution_count": 67,
     "metadata": {},
     "output_type": "execute_result"
    }
   ],
   "source": [
    "rf_random.predict([[5,3.0,1800.0,3,2,12.899222]])"
   ]
  },
  {
   "cell_type": "markdown",
   "id": "0e2e3c5f",
   "metadata": {},
   "source": [
    "# -------------------------------------------------------------------------------------------------------------"
   ]
  },
  {
   "cell_type": "markdown",
   "id": "ce1ba2c2",
   "metadata": {},
   "source": [
    "## Save Model"
   ]
  },
  {
   "cell_type": "code",
   "execution_count": 68,
   "id": "8ab58e8f",
   "metadata": {},
   "outputs": [],
   "source": [
    "import pickle"
   ]
  },
  {
   "cell_type": "code",
   "execution_count": null,
   "id": "9388ddd2",
   "metadata": {},
   "outputs": [],
   "source": [
    "# Saving the model\n",
    "#pickle.dump(rf_random, open('rf_rand_model.pkl','wb'))"
   ]
  },
  {
   "cell_type": "code",
   "execution_count": 69,
   "id": "af047749",
   "metadata": {},
   "outputs": [
    {
     "name": "stdout",
     "output_type": "stream",
     "text": [
      "[9.82286697]\n"
     ]
    }
   ],
   "source": [
    "model = pickle.load(open('rf_rand_model.pkl','rb'))\n",
    "print(model.predict([[5,1.0,470.0,1,2,11.225257]]))"
   ]
  },
  {
   "cell_type": "code",
   "execution_count": null,
   "id": "561bf1a0",
   "metadata": {},
   "outputs": [],
   "source": []
  }
 ],
 "metadata": {
  "kernelspec": {
   "display_name": "Python 3 (ipykernel)",
   "language": "python",
   "name": "python3"
  },
  "language_info": {
   "codemirror_mode": {
    "name": "ipython",
    "version": 3
   },
   "file_extension": ".py",
   "mimetype": "text/x-python",
   "name": "python",
   "nbconvert_exporter": "python",
   "pygments_lexer": "ipython3",
   "version": "3.9.7"
  }
 },
 "nbformat": 4,
 "nbformat_minor": 5
}
